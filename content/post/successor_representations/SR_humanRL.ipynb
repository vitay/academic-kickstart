{
 "cells": [
  {
   "cell_type": "markdown",
   "metadata": {},
   "source": [
    "# The successor representation in human reinforcement learning\n",
    "\n",
    "Reimplementation of:\n",
    "\n",
    "Momennejad, I., Russek, E. M., Cheong, J. H., Botvinick, M. M., Daw, N. D., and Gershman, S. J. (2017). The successor representation in human reinforcement learning. Nature Human Behaviour 1, 680–692. doi:10.1038/s41562-017-0180-8."
   ]
  },
  {
   "cell_type": "code",
   "execution_count": 1,
   "metadata": {},
   "outputs": [],
   "source": [
    "import numpy as np\n",
    "import matplotlib.pyplot as plt\n",
    "import seaborn as sns\n",
    "sns.set()"
   ]
  },
  {
   "cell_type": "markdown",
   "metadata": {},
   "source": [
    "## Experiment 1: differential sensitivity to reward and transition revaluation"
   ]
  },
  {
   "cell_type": "code",
   "execution_count": 2,
   "metadata": {},
   "outputs": [],
   "source": [
    "# Parameters\n",
    "gamma = 1.0\n",
    "nb_states = 6\n",
    "\n",
    "# Reward revaluation\n",
    "T = np.zeros((nb_states, nb_states))\n",
    "T[0, 2] = 1.; T[2, 4] = 1.; T[1, 3] = 1.; T[3, 5] = 1.;  \n",
    "R1 = np.zeros((nb_states, nb_states))\n",
    "R1[2, 4] = 10.0; R1[3, 5] = 1.0\n",
    "R2 = np.zeros((nb_states, nb_states))\n",
    "R2[2, 4] = 1.0; R2[3, 5] = 10.0\n",
    "\n",
    "# Transition revaluation\n",
    "T1 = np.zeros((nb_states, nb_states))\n",
    "T1[0, 2] = 1.; T1[2, 4] = 1.; T1[1, 3] = 1.; T1[3, 5] = 1.;  \n",
    "T2 = np.zeros((nb_states, nb_states))\n",
    "T2[0, 2] = 1.; T2[2, 5] = 1.; T2[1, 3] = 1.; T2[3, 4] = 1.; \n",
    "R3 = np.zeros((nb_states, nb_states))\n",
    "R3[2, 4] = 10.0; R3[3, 5] = 1.0\n",
    "R4 = np.zeros((nb_states, nb_states))\n",
    "R4[2, 5] = 1.0; R4[3, 4] = 10.0"
   ]
  },
  {
   "cell_type": "code",
   "execution_count": 8,
   "metadata": {},
   "outputs": [
    {
     "data": {
      "image/png": "[encoded data removed]",
      "text/plain": [
       "<Figure size 720x360 with 1 Axes>"
      ]
     },
     "metadata": {
      "needs_background": "light"
     },
     "output_type": "display_data"
    }
   ],
   "source": [
    "b = sns.xkcd_rgb[\"denim blue\"]\n",
    "r = sns.xkcd_rgb[\"pale red\"]\n",
    "\n",
    "fig, ax = plt.subplots(figsize=(10, 5))\n",
    "\n",
    "reward = ax.bar(\n",
    "    [0, 3, 6, 9], \n",
    "    [0.01, 0.5, 0.5, 0.51],\n",
    "    color=r,\n",
    "    width=1.0, bottom=0.0)\n",
    "\n",
    "transition = ax.bar(\n",
    "    [1, 4, 7, 10], \n",
    "    [0.01, 0.5, 0.01, 0.45],\n",
    "    color=b,\n",
    "    width=1.0, bottom=0.0)\n",
    "\n",
    "ax.set_ylabel(\"Revaluation score\")\n",
    "ax.set_xticks([0.5, 3.5, 6.5, 9.5])\n",
    "ax.set_xticklabels([\"MF\", \"MB\", \"SR\", \"Human\"])\n",
    "ax.legend((reward[0], transition[0]), ('Reward', 'Transition'))\n",
    "plt.savefig(\"sr_results.png\", dpi=150)\n",
    "plt.show()"
   ]
  },
  {
   "cell_type": "code",
   "execution_count": null,
   "metadata": {},
   "outputs": [],
   "source": []
  }
 ],
 "metadata": {
  "kernelspec": {
   "display_name": "Python 3",
   "language": "python",
   "name": "python3"
  },
  "language_info": {
   "codemirror_mode": {
    "name": "ipython",
    "version": 3
   },
   "file_extension": ".py",
   "mimetype": "text/x-python",
   "name": "python",
   "nbconvert_exporter": "python",
   "pygments_lexer": "ipython3",
   "version": "3.7.2"
  }
 },
 "nbformat": 4,
 "nbformat_minor": 2
}
